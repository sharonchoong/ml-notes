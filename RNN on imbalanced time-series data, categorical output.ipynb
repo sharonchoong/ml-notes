{
 "cells": [
  {
   "cell_type": "code",
   "execution_count": 1,
   "metadata": {},
   "outputs": [],
   "source": [
    "import tensorflow as tf\n",
    "\n",
    "from tensorflow import keras\n",
    "from tensorflow import feature_column\n",
    "from tensorflow.keras import layers\n",
    "\n",
    "import numpy as np"
   ]
  },
  {
   "cell_type": "markdown",
   "metadata": {},
   "source": [
    "The target at time n will be sin(x1<sub>n-1</sub>/4) + x2<sub>n-1</sub> where x1 and x2 are features. x1<sub>n</sub> = x1<sub>n-1</sub> + 1. x2<sub>n</sub> = MIN(MAX(x2<sub>n-1</sub>, -3), 3) + a randomly generated number between -1 and 1. The LAG response will be a binary variable if positive/negative"
   ]
  },
  {
   "cell_type": "code",
   "execution_count": 2,
   "metadata": {
    "scrolled": true
   },
   "outputs": [],
   "source": [
    "import pandas as pd\n",
    "\n",
    "df = pd.read_csv('data/data_temporal.csv')\n",
    "df['response_categorical'] = df['response'].apply(lambda x: True if x < 0 else False)\n",
    "\n",
    "df = df.dropna()\n",
    "df_original = df.copy()\n",
    "dates = df.pop('date')\n",
    "\n",
    "for col in df.columns: \n",
    "    df = df.rename({col: col.replace(' ', '_').replace('&', '')}, axis=1)"
   ]
  },
  {
   "cell_type": "code",
   "execution_count": 3,
   "metadata": {},
   "outputs": [
    {
     "data": {
      "text/html": [
       "<div>\n",
       "<style scoped>\n",
       "    .dataframe tbody tr th:only-of-type {\n",
       "        vertical-align: middle;\n",
       "    }\n",
       "\n",
       "    .dataframe tbody tr th {\n",
       "        vertical-align: top;\n",
       "    }\n",
       "\n",
       "    .dataframe thead th {\n",
       "        text-align: right;\n",
       "    }\n",
       "</style>\n",
       "<table border=\"1\" class=\"dataframe\">\n",
       "  <thead>\n",
       "    <tr style=\"text-align: right;\">\n",
       "      <th></th>\n",
       "      <th>x1</th>\n",
       "      <th>x2</th>\n",
       "      <th>response</th>\n",
       "    </tr>\n",
       "  </thead>\n",
       "  <tbody>\n",
       "    <tr>\n",
       "      <th>count</th>\n",
       "      <td>7.370000e+02</td>\n",
       "      <td>7.370000e+02</td>\n",
       "      <td>7.370000e+02</td>\n",
       "    </tr>\n",
       "    <tr>\n",
       "      <th>mean</th>\n",
       "      <td>-3.856406e-17</td>\n",
       "      <td>9.821783e-17</td>\n",
       "      <td>-1.024358e-16</td>\n",
       "    </tr>\n",
       "    <tr>\n",
       "      <th>std</th>\n",
       "      <td>1.000679e+00</td>\n",
       "      <td>1.000679e+00</td>\n",
       "      <td>1.000679e+00</td>\n",
       "    </tr>\n",
       "    <tr>\n",
       "      <th>min</th>\n",
       "      <td>-1.729702e+00</td>\n",
       "      <td>-2.460622e+00</td>\n",
       "      <td>-2.551562e+00</td>\n",
       "    </tr>\n",
       "    <tr>\n",
       "      <th>25%</th>\n",
       "      <td>-8.648511e-01</td>\n",
       "      <td>-7.867571e-01</td>\n",
       "      <td>-7.571602e-01</td>\n",
       "    </tr>\n",
       "    <tr>\n",
       "      <th>50%</th>\n",
       "      <td>0.000000e+00</td>\n",
       "      <td>1.394495e-01</td>\n",
       "      <td>9.046393e-02</td>\n",
       "    </tr>\n",
       "    <tr>\n",
       "      <th>75%</th>\n",
       "      <td>8.648511e-01</td>\n",
       "      <td>7.885823e-01</td>\n",
       "      <td>7.769998e-01</td>\n",
       "    </tr>\n",
       "    <tr>\n",
       "      <th>max</th>\n",
       "      <td>1.729702e+00</td>\n",
       "      <td>1.743526e+00</td>\n",
       "      <td>2.151954e+00</td>\n",
       "    </tr>\n",
       "  </tbody>\n",
       "</table>\n",
       "</div>"
      ],
      "text/plain": [
       "                 x1            x2      response\n",
       "count  7.370000e+02  7.370000e+02  7.370000e+02\n",
       "mean  -3.856406e-17  9.821783e-17 -1.024358e-16\n",
       "std    1.000679e+00  1.000679e+00  1.000679e+00\n",
       "min   -1.729702e+00 -2.460622e+00 -2.551562e+00\n",
       "25%   -8.648511e-01 -7.867571e-01 -7.571602e-01\n",
       "50%    0.000000e+00  1.394495e-01  9.046393e-02\n",
       "75%    8.648511e-01  7.885823e-01  7.769998e-01\n",
       "max    1.729702e+00  1.743526e+00  2.151954e+00"
      ]
     },
     "execution_count": 3,
     "metadata": {},
     "output_type": "execute_result"
    }
   ],
   "source": [
    "### normalize features\n",
    "from sklearn.preprocessing import StandardScaler\n",
    "xCategorical = df.pop('response_categorical')\n",
    "\n",
    "def normalize_column(df):\n",
    "    scaler = StandardScaler()\n",
    "    df = pd.DataFrame(scaler.fit_transform(df.values), columns = df.columns, index= df.index)\n",
    "    df = pd.DataFrame(np.clip(df, -5, 5), columns = df.columns, index= df.index)\n",
    "    return df\n",
    "        \n",
    "df = normalize_column(df)\n",
    "df['response_categorical'] = xCategorical.values\n",
    "\n",
    "df.describe()"
   ]
  },
  {
   "cell_type": "code",
   "execution_count": 4,
   "metadata": {},
   "outputs": [
    {
     "data": {
      "text/html": [
       "<div>\n",
       "<style scoped>\n",
       "    .dataframe tbody tr th:only-of-type {\n",
       "        vertical-align: middle;\n",
       "    }\n",
       "\n",
       "    .dataframe tbody tr th {\n",
       "        vertical-align: top;\n",
       "    }\n",
       "\n",
       "    .dataframe thead th {\n",
       "        text-align: right;\n",
       "    }\n",
       "</style>\n",
       "<table border=\"1\" class=\"dataframe\">\n",
       "  <thead>\n",
       "    <tr style=\"text-align: right;\">\n",
       "      <th></th>\n",
       "      <th>x1</th>\n",
       "      <th>x2</th>\n",
       "      <th>response</th>\n",
       "      <th>response_categorical</th>\n",
       "    </tr>\n",
       "  </thead>\n",
       "  <tbody>\n",
       "    <tr>\n",
       "      <th>1</th>\n",
       "      <td>-1.729702</td>\n",
       "      <td>-1.081378</td>\n",
       "      <td>-0.603535</td>\n",
       "      <td>True</td>\n",
       "    </tr>\n",
       "    <tr>\n",
       "      <th>2</th>\n",
       "      <td>-1.725002</td>\n",
       "      <td>-0.711769</td>\n",
       "      <td>-0.692751</td>\n",
       "      <td>True</td>\n",
       "    </tr>\n",
       "    <tr>\n",
       "      <th>3</th>\n",
       "      <td>-1.720302</td>\n",
       "      <td>-0.540192</td>\n",
       "      <td>-0.260794</td>\n",
       "      <td>False</td>\n",
       "    </tr>\n",
       "    <tr>\n",
       "      <th>4</th>\n",
       "      <td>-1.715601</td>\n",
       "      <td>-0.728832</td>\n",
       "      <td>-0.043545</td>\n",
       "      <td>False</td>\n",
       "    </tr>\n",
       "    <tr>\n",
       "      <th>5</th>\n",
       "      <td>-1.710901</td>\n",
       "      <td>-0.928202</td>\n",
       "      <td>-0.198687</td>\n",
       "      <td>False</td>\n",
       "    </tr>\n",
       "    <tr>\n",
       "      <th>...</th>\n",
       "      <td>...</td>\n",
       "      <td>...</td>\n",
       "      <td>...</td>\n",
       "      <td>...</td>\n",
       "    </tr>\n",
       "    <tr>\n",
       "      <th>733</th>\n",
       "      <td>1.710901</td>\n",
       "      <td>-1.998981</td>\n",
       "      <td>-1.501794</td>\n",
       "      <td>True</td>\n",
       "    </tr>\n",
       "    <tr>\n",
       "      <th>734</th>\n",
       "      <td>1.715601</td>\n",
       "      <td>-2.131935</td>\n",
       "      <td>-1.406318</td>\n",
       "      <td>True</td>\n",
       "    </tr>\n",
       "    <tr>\n",
       "      <th>735</th>\n",
       "      <td>1.720302</td>\n",
       "      <td>-2.079564</td>\n",
       "      <td>-1.544312</td>\n",
       "      <td>True</td>\n",
       "    </tr>\n",
       "    <tr>\n",
       "      <th>736</th>\n",
       "      <td>1.725002</td>\n",
       "      <td>-1.887077</td>\n",
       "      <td>-1.536448</td>\n",
       "      <td>True</td>\n",
       "    </tr>\n",
       "    <tr>\n",
       "      <th>737</th>\n",
       "      <td>1.729702</td>\n",
       "      <td>-2.003556</td>\n",
       "      <td>-1.423136</td>\n",
       "      <td>True</td>\n",
       "    </tr>\n",
       "  </tbody>\n",
       "</table>\n",
       "<p>737 rows × 4 columns</p>\n",
       "</div>"
      ],
      "text/plain": [
       "           x1        x2  response  response_categorical\n",
       "1   -1.729702 -1.081378 -0.603535                  True\n",
       "2   -1.725002 -0.711769 -0.692751                  True\n",
       "3   -1.720302 -0.540192 -0.260794                 False\n",
       "4   -1.715601 -0.728832 -0.043545                 False\n",
       "5   -1.710901 -0.928202 -0.198687                 False\n",
       "..        ...       ...       ...                   ...\n",
       "733  1.710901 -1.998981 -1.501794                  True\n",
       "734  1.715601 -2.131935 -1.406318                  True\n",
       "735  1.720302 -2.079564 -1.544312                  True\n",
       "736  1.725002 -1.887077 -1.536448                  True\n",
       "737  1.729702 -2.003556 -1.423136                  True\n",
       "\n",
       "[737 rows x 4 columns]"
      ]
     },
     "execution_count": 4,
     "metadata": {},
     "output_type": "execute_result"
    }
   ],
   "source": [
    "df"
   ]
  },
  {
   "cell_type": "code",
   "execution_count": 5,
   "metadata": {},
   "outputs": [],
   "source": [
    "def df_to_dataset(df_features, df_labels, batch_size=32, single_step=False):\n",
    "    test_split = int(len(df_features) * 0.8)\n",
    "    validation_split = int(test_split * 0.6)\n",
    "    \n",
    "    x_train, y_train = create_multivariate_data(df_features, df_labels, 0,\n",
    "                                                       validation_split, past_history,\n",
    "                                                       future_target, single_step)\n",
    "    x_val, y_val = create_multivariate_data(df_features, df_labels,\n",
    "                                                   validation_split, test_split, past_history,\n",
    "                                                   future_target, single_step)\n",
    "    x_test, y_test = create_multivariate_data(df_features, df_labels,\n",
    "                                                   test_split, None, past_history,\n",
    "                                                   future_target, single_step)\n",
    "    print(\"Training data\", x_train.shape)\n",
    "    print(\"Validation data\", x_val.shape)\n",
    "    print(\"Test data\", x_test.shape)\n",
    "    train_data = tf.data.Dataset.from_tensor_slices((x_train, y_train))\n",
    "    train_data = train_data.shuffle(len(df_features)).batch(batch_size)\n",
    "    \n",
    "    val_data = tf.data.Dataset.from_tensor_slices((x_val, y_val))\n",
    "    val_data = val_data.batch(batch_size)\n",
    "    \n",
    "    test_data = tf.data.Dataset.from_tensor_slices((x_test, y_test))\n",
    "    test_data = test_data.batch(1)\n",
    "\n",
    "    return x_train.shape[-2:], train_data, val_data, test_data\n",
    "    "
   ]
  },
  {
   "cell_type": "code",
   "execution_count": 6,
   "metadata": {},
   "outputs": [],
   "source": [
    "def create_multivariate_data(features, target, start_index, end_index, history_size, target_size, single_step=False):\n",
    "    data = []\n",
    "    labels = []\n",
    "    \n",
    "    start_index = start_index + history_size\n",
    "    if end_index is None:\n",
    "        end_index = len(features) - target_size\n",
    "    for i in range(start_index, end_index):\n",
    "        indices = range(i-history_size, i)\n",
    "        data.append(features[indices])\n",
    "        \n",
    "        if single_step:\n",
    "            labels.append(target[i+target_size])\n",
    "        else:\n",
    "            labels.append(target[i:i+target_size])\n",
    "            \n",
    "    return np.asarray(data), np.asarray(labels)"
   ]
  },
  {
   "cell_type": "code",
   "execution_count": 7,
   "metadata": {},
   "outputs": [
    {
     "name": "stdout",
     "output_type": "stream",
     "text": [
      "Training data (323, 30, 1)\n",
      "Validation data (206, 30, 1)\n",
      "Test data (118, 30, 1)\n"
     ]
    }
   ],
   "source": [
    "features = [\n",
    "            #'x1',\n",
    "            #'x2',\n",
    "            'response'\n",
    "          ]\n",
    "\n",
    "df_features = df[features]\n",
    "df_features.head()\n",
    "\n",
    "df_features = df_features.values\n",
    "\n",
    "#time window parameters for the model\n",
    "past_history = 30\n",
    "future_target = 0 #note: smallest index is 0 if single step, 1 if multi step\n",
    "is_single_step = True\n",
    "\n",
    "shape, train_data, val_data, test_data = df_to_dataset(df_features, df[\"response_categorical\"].values, \n",
    "                                                       batch_size=int((len(df_features)-past_history)), single_step=is_single_step)"
   ]
  },
  {
   "cell_type": "code",
   "execution_count": 8,
   "metadata": {},
   "outputs": [],
   "source": [
    "import matplotlib.pyplot as plt\n",
    "\n",
    "def create_time_steps(length):\n",
    "  return list(range(-length, 0))\n",
    "\n",
    "def multi_step_plot(history, true_future, prediction):\n",
    "    plt.figure(figsize=(12, 6))\n",
    "    num_in = create_time_steps(len(history))\n",
    "    num_out = len(true_future)\n",
    "\n",
    "    plt.plot(num_in, np.array(history[:, 1]), label='History')\n",
    "    if true_future:\n",
    "        plt.plot(np.arange(num_out), np.array(true_future), 'bo', label='True Future')\n",
    "    if prediction.any():\n",
    "        plt.plot(np.arange(num_out), np.array(prediction), 'ro', label='Predicted Future')\n",
    "    plt.legend(loc='upper left')\n",
    "    plt.show\n",
    "\n",
    "def plot_train_history(history, title, other_metric=None):\n",
    "    loss = history.history['loss']\n",
    "    val_loss = history.history['val_loss']\n",
    "    epochs = range(len(loss))\n",
    "    plt.figure()\n",
    "    \n",
    "    fig, ax1 = plt.subplots()\n",
    "    ax1.plot(epochs, loss, 'b', label='Training loss')\n",
    "    ax1.plot(epochs, val_loss, 'r', label='Validation loss')\n",
    "    if other_metric:\n",
    "        ax2 = ax1.twinx()\n",
    "        ax2.plot(epochs, history.history[other_metric], 'g', label=other_metric)\n",
    "    plt.title(title)\n",
    "    ax1.legend(loc='upper left')\n",
    "    ax2.legend(loc='upper right')\n",
    "    \n",
    "    plt.show() \n",
    "    \n",
    "if not is_single_step:\n",
    "    for x, y in train_data.take(1):\n",
    "        multi_step_plot(x[0], y[0], np.array([0]))"
   ]
  },
  {
   "cell_type": "code",
   "execution_count": 9,
   "metadata": {},
   "outputs": [
    {
     "data": {
      "image/png": "[encoded data removed]",
      "text/plain": [
       "<Figure size 432x288 with 1 Axes>"
      ]
     },
     "metadata": {
      "needs_background": "light"
     },
     "output_type": "display_data"
    }
   ],
   "source": [
    "plt.plot( df[\"response\"], label='Response')\n",
    "plt.show()"
   ]
  },
  {
   "cell_type": "code",
   "execution_count": 10,
   "metadata": {},
   "outputs": [
    {
     "name": "stdout",
     "output_type": "stream",
     "text": [
      "{False: 0.7790697674418605, True: 1.3958333333333335}\n",
      "False    473\n",
      "True     264\n",
      "Name: response_categorical, dtype: int64\n"
     ]
    },
    {
     "data": {
      "text/plain": [
       "<matplotlib.axes._subplots.AxesSubplot at 0x245553c4dc8>"
      ]
     },
     "execution_count": 10,
     "metadata": {},
     "output_type": "execute_result"
    },
    {
     "data": {
      "image/png": "[encoded data removed]",
      "text/plain": [
       "<Figure size 432x288 with 1 Axes>"
      ]
     },
     "metadata": {
      "needs_background": "light"
     },
     "output_type": "display_data"
    }
   ],
   "source": [
    "### overweighing negative response_categorical y category\n",
    "## note: cannot oversample categorical y to rebalance since will lose past history information\n",
    "weight_negative = (1/df['response_categorical'].value_counts()[True]) * len(df['response_categorical'])/2.0\n",
    "weight_positive = (1/df['response_categorical'].value_counts()[False]) * len(df['response_categorical'])/2.0\n",
    "class_weight = {False: weight_positive, True: weight_negative}\n",
    "\n",
    "print(class_weight)\n",
    "print(df['response_categorical'].value_counts())\n",
    "df['response_categorical'].value_counts().plot(kind='bar')"
   ]
  },
  {
   "cell_type": "code",
   "execution_count": 11,
   "metadata": {},
   "outputs": [],
   "source": [
    "def make_model(bias, threshold, shape):\n",
    "    if bias is not None:\n",
    "        bias = keras.initializers.Constant(bias)\n",
    "    model = tf.keras.Sequential()\n",
    "    #add LSTM layer\n",
    "    #model.add(layers.LSTM(1280, input_shape=shape))\n",
    "    model.add(layers.LSTM(1280, return_sequences=True, input_shape=shape))\n",
    "    model.add(layers.LSTM(640, return_sequences=True))\n",
    "    model.add(layers.LSTM(80))\n",
    "    \n",
    "    model.add(layers.Dense(2000, activation='relu'))\n",
    "    model.add(layers.Dropout(0.5))\n",
    "    model.add(layers.Dense(10000, activation='relu'))\n",
    "    \n",
    "    # Add the output layer:\n",
    "    output_unit = 1 if not is_single_step else future_target + 1\n",
    "    model.add(layers.Dense(output_unit, activation='sigmoid', bias_initializer= bias))\n",
    "\n",
    "    model.compile(optimizer=tf.keras.optimizers.Adam(learning_rate=0.001),\n",
    "                  loss='binary_crossentropy',\n",
    "                  metrics=[keras.metrics.BinaryAccuracy(threshold=threshold), keras.metrics.Precision(thresholds=threshold), \n",
    "                           keras.metrics.Recall(thresholds=threshold), keras.metrics.AUC(name='auc')])\n",
    "    \n",
    "    return model"
   ]
  },
  {
   "cell_type": "code",
   "execution_count": 12,
   "metadata": {},
   "outputs": [],
   "source": [
    "earlystop_callback = tf.keras.callbacks.EarlyStopping(monitor=\"val_auc\", min_delta=0.001, patience=10, mode=\"max\")\n",
    "checkpoint_callback = tf.keras.callbacks.ModelCheckpoint(\"bestcheckpoint_RNN.h5\", monitor=\"val_auc\", save_best_only=True, mode=\"max\")"
   ]
  },
  {
   "cell_type": "code",
   "execution_count": 13,
   "metadata": {
    "scrolled": false
   },
   "outputs": [
    {
     "name": "stdout",
     "output_type": "stream",
     "text": [
      "Epoch 1/500\n",
      "1/1 [==============================] - 33s 33s/step - loss: 0.7197 - binary_accuracy: 0.6780 - precision: 0.0000e+00 - recall: 0.0000e+00 - auc: 0.5046 - val_loss: 0.0000e+00 - val_binary_accuracy: 0.0000e+00 - val_precision: 0.0000e+00 - val_recall: 0.0000e+00 - val_auc: 0.0000e+00\n",
      "Epoch 2/500\n",
      "1/1 [==============================] - 9s 9s/step - loss: 0.5777 - binary_accuracy: 0.6780 - precision: 0.0000e+00 - recall: 0.0000e+00 - auc: 0.8143 - val_loss: 1.7741 - val_binary_accuracy: 0.6262 - val_precision: 0.5965 - val_recall: 0.6869 - val_auc: 0.7320\n",
      "Epoch 3/500\n",
      "1/1 [==============================] - 11s 11s/step - loss: 1.2493 - binary_accuracy: 0.7152 - precision: 0.5469 - recall: 0.6731 - auc: 0.7424 - val_loss: 0.5319 - val_binary_accuracy: 0.5194 - val_precision: 0.0000e+00 - val_recall: 0.0000e+00 - val_auc: 0.8734\n",
      "Epoch 4/500\n",
      "1/1 [==============================] - 9s 9s/step - loss: 0.4996 - binary_accuracy: 0.6780 - precision: 0.0000e+00 - recall: 0.0000e+00 - auc: 0.8243 - val_loss: 0.5928 - val_binary_accuracy: 0.5194 - val_precision: 0.0000e+00 - val_recall: 0.0000e+00 - val_auc: 0.9522\n",
      "Epoch 5/500\n",
      "1/1 [==============================] - 8s 8s/step - loss: 0.5625 - binary_accuracy: 0.6780 - precision: 0.0000e+00 - recall: 0.0000e+00 - auc: 0.8546 - val_loss: 0.5663 - val_binary_accuracy: 0.5194 - val_precision: 0.0000e+00 - val_recall: 0.0000e+00 - val_auc: 0.9070\n",
      "Epoch 6/500\n",
      "1/1 [==============================] - 8s 8s/step - loss: 0.5315 - binary_accuracy: 0.6780 - precision: 0.0000e+00 - recall: 0.0000e+00 - auc: 0.8669 - val_loss: 0.5425 - val_binary_accuracy: 0.5194 - val_precision: 0.0000e+00 - val_recall: 0.0000e+00 - val_auc: 0.8724\n",
      "Epoch 7/500\n",
      "1/1 [==============================] - 8s 8s/step - loss: 0.4841 - binary_accuracy: 0.6780 - precision: 0.0000e+00 - recall: 0.0000e+00 - auc: 0.8375 - val_loss: 0.5786 - val_binary_accuracy: 0.7524 - val_precision: 0.8636 - val_recall: 0.5758 - val_auc: 0.8584\n",
      "Epoch 8/500\n",
      "1/1 [==============================] - 8s 8s/step - loss: 0.5072 - binary_accuracy: 0.7957 - precision: 0.8654 - recall: 0.4327 - auc: 0.8264 - val_loss: 0.4848 - val_binary_accuracy: 0.7718 - val_precision: 0.8611 - val_recall: 0.6263 - val_auc: 0.8894\n",
      "Epoch 9/500\n",
      "1/1 [==============================] - 7s 7s/step - loss: 0.4583 - binary_accuracy: 0.8050 - precision: 0.8596 - recall: 0.4712 - auc: 0.8508 - val_loss: 0.4296 - val_binary_accuracy: 0.7718 - val_precision: 0.8939 - val_recall: 0.5960 - val_auc: 0.9301\n",
      "Epoch 10/500\n",
      "1/1 [==============================] - 10s 10s/step - loss: 0.4322 - binary_accuracy: 0.7895 - precision: 0.9091 - recall: 0.3846 - auc: 0.8807 - val_loss: 0.4086 - val_binary_accuracy: 0.7864 - val_precision: 0.9104 - val_recall: 0.6162 - val_auc: 0.9533\n",
      "Epoch 11/500\n",
      "1/1 [==============================] - 11s 11s/step - loss: 0.4223 - binary_accuracy: 0.7864 - precision: 0.9070 - recall: 0.3750 - auc: 0.8994 - val_loss: 0.3577 - val_binary_accuracy: 0.8204 - val_precision: 0.8974 - val_recall: 0.7071 - val_auc: 0.9567\n",
      "Epoch 12/500\n",
      "1/1 [==============================] - 7s 7s/step - loss: 0.3880 - binary_accuracy: 0.8328 - precision: 0.8788 - recall: 0.5577 - auc: 0.9072 - val_loss: 0.3095 - val_binary_accuracy: 0.8641 - val_precision: 0.8901 - val_recall: 0.8182 - val_auc: 0.9526\n",
      "Epoch 13/500\n",
      "1/1 [==============================] - 9s 9s/step - loss: 0.3569 - binary_accuracy: 0.8359 - precision: 0.8148 - recall: 0.6346 - auc: 0.9113 - val_loss: 0.2816 - val_binary_accuracy: 0.8738 - val_precision: 0.8925 - val_recall: 0.8384 - val_auc: 0.9575\n",
      "Epoch 14/500\n",
      "1/1 [==============================] - 11s 11s/step - loss: 0.3383 - binary_accuracy: 0.8545 - precision: 0.8202 - recall: 0.7019 - auc: 0.9191 - val_loss: 0.2473 - val_binary_accuracy: 0.8835 - val_precision: 0.9412 - val_recall: 0.8081 - val_auc: 0.9739\n",
      "Epoch 15/500\n",
      "1/1 [==============================] - 10s 10s/step - loss: 0.2941 - binary_accuracy: 0.8669 - precision: 0.8765 - recall: 0.6827 - auc: 0.9438 - val_loss: 0.2516 - val_binary_accuracy: 0.8786 - val_precision: 1.0000 - val_recall: 0.7475 - val_auc: 0.9833\n",
      "Epoch 16/500\n",
      "1/1 [==============================] - 9s 9s/step - loss: 0.2732 - binary_accuracy: 0.8731 - precision: 0.9437 - recall: 0.6442 - auc: 0.9607 - val_loss: 0.1999 - val_binary_accuracy: 0.9272 - val_precision: 0.9565 - val_recall: 0.8889 - val_auc: 0.9790\n",
      "Epoch 17/500\n",
      "1/1 [==============================] - 9s 9s/step - loss: 0.2372 - binary_accuracy: 0.9133 - precision: 0.9222 - recall: 0.7981 - auc: 0.9637 - val_loss: 0.2055 - val_binary_accuracy: 0.9417 - val_precision: 0.9485 - val_recall: 0.9293 - val_auc: 0.9762\n",
      "Epoch 18/500\n",
      "1/1 [==============================] - 9s 9s/step - loss: 0.2344 - binary_accuracy: 0.9102 - precision: 0.8788 - recall: 0.8365 - auc: 0.9656 - val_loss: 0.2730 - val_binary_accuracy: 0.8786 - val_precision: 0.9405 - val_recall: 0.7980 - val_auc: 0.9550\n",
      "Epoch 19/500\n",
      "1/1 [==============================] - 9s 9s/step - loss: 0.2201 - binary_accuracy: 0.9102 - precision: 0.9310 - recall: 0.7788 - auc: 0.9687 - val_loss: 0.2212 - val_binary_accuracy: 0.9272 - val_precision: 0.9565 - val_recall: 0.8889 - val_auc: 0.9708\n",
      "Epoch 20/500\n",
      "1/1 [==============================] - 9s 9s/step - loss: 0.2139 - binary_accuracy: 0.9195 - precision: 0.9239 - recall: 0.8173 - auc: 0.9672 - val_loss: 0.1973 - val_binary_accuracy: 0.9223 - val_precision: 0.9663 - val_recall: 0.8687 - val_auc: 0.9769\n",
      "Epoch 21/500\n",
      "1/1 [==============================] - 8s 8s/step - loss: 0.2069 - binary_accuracy: 0.9195 - precision: 0.8980 - recall: 0.8462 - auc: 0.9699 - val_loss: 0.2545 - val_binary_accuracy: 0.8981 - val_precision: 0.9756 - val_recall: 0.8081 - val_auc: 0.9697\n",
      "Epoch 22/500\n",
      "1/1 [==============================] - 9s 9s/step - loss: 0.2043 - binary_accuracy: 0.9226 - precision: 0.8990 - recall: 0.8558 - auc: 0.9724 - val_loss: 0.3000 - val_binary_accuracy: 0.8835 - val_precision: 0.9747 - val_recall: 0.7778 - val_auc: 0.9696\n",
      "Epoch 23/500\n",
      "1/1 [==============================] - 9s 9s/step - loss: 0.2141 - binary_accuracy: 0.9288 - precision: 0.9551 - recall: 0.8173 - auc: 0.9719 - val_loss: 0.2464 - val_binary_accuracy: 0.9078 - val_precision: 0.9762 - val_recall: 0.8283 - val_auc: 0.9722\n",
      "Epoch 24/500\n",
      "1/1 [==============================] - 9s 9s/step - loss: 0.1939 - binary_accuracy: 0.9164 - precision: 0.9140 - recall: 0.8173 - auc: 0.9743 - val_loss: 0.2402 - val_binary_accuracy: 0.9126 - val_precision: 0.9765 - val_recall: 0.8384 - val_auc: 0.9696\n",
      "Epoch 25/500\n",
      "1/1 [==============================] - 9s 9s/step - loss: 0.1959 - binary_accuracy: 0.9102 - precision: 0.8641 - recall: 0.8558 - auc: 0.9760 - val_loss: 0.3106 - val_binary_accuracy: 0.8786 - val_precision: 0.9405 - val_recall: 0.7980 - val_auc: 0.9497\n"
     ]
    }
   ],
   "source": [
    "model = make_model(None, 0.6, shape)\n",
    "history = model.fit(train_data, epochs=500, validation_data=val_data, \n",
    "                    class_weight=class_weight, callbacks=[earlystop_callback, checkpoint_callback])\n",
    "\n",
    "if not is_single_step:\n",
    "    for x, y in val_data.take(10):\n",
    "        multi_step_plot(x[0], y[0], model.predict(x)[0])"
   ]
  },
  {
   "cell_type": "code",
   "execution_count": 14,
   "metadata": {},
   "outputs": [
    {
     "data": {
      "text/plain": [
       "<Figure size 432x288 with 0 Axes>"
      ]
     },
     "metadata": {},
     "output_type": "display_data"
    },
    {
     "data": {
      "image/png": "[encoded data removed]",
      "text/plain": [
       "<Figure size 432x288 with 2 Axes>"
      ]
     },
     "metadata": {
      "needs_background": "light"
     },
     "output_type": "display_data"
    },
    {
     "name": "stdout",
     "output_type": "stream",
     "text": [
      "Model: \"sequential\"\n",
      "_________________________________________________________________\n",
      "Layer (type)                 Output Shape              Param #   \n",
      "=================================================================\n",
      "lstm (LSTM)                  (None, 30, 1280)          6563840   \n",
      "_________________________________________________________________\n",
      "lstm_1 (LSTM)                (None, 30, 640)           4917760   \n",
      "_________________________________________________________________\n",
      "lstm_2 (LSTM)                (None, 80)                230720    \n",
      "_________________________________________________________________\n",
      "dense (Dense)                (None, 2000)              162000    \n",
      "_________________________________________________________________\n",
      "dropout (Dropout)            (None, 2000)              0         \n",
      "_________________________________________________________________\n",
      "dense_1 (Dense)              (None, 10000)             20010000  \n",
      "_________________________________________________________________\n",
      "dense_2 (Dense)              (None, 1)                 10001     \n",
      "=================================================================\n",
      "Total params: 31,894,321\n",
      "Trainable params: 31,894,321\n",
      "Non-trainable params: 0\n",
      "_________________________________________________________________\n"
     ]
    }
   ],
   "source": [
    "plot_train_history(history, 'Final Model', 'val_auc')\n",
    "\n",
    "#model = tf.keras.models.load_model(\"bestcheckpoint_RNN.h5\")\n",
    "\n",
    "model.summary()"
   ]
  },
  {
   "cell_type": "code",
   "execution_count": 15,
   "metadata": {
    "scrolled": true
   },
   "outputs": [
    {
     "name": "stdout",
     "output_type": "stream",
     "text": [
      "118/118 [==============================] - 10s 82ms/step - loss: 0.2030 - binary_accuracy: 0.9237 - precision: 0.9310 - recall: 0.7941 - auc: 0.9636\n"
     ]
    },
    {
     "data": {
      "text/html": [
       "<div>\n",
       "<style scoped>\n",
       "    .dataframe tbody tr th:only-of-type {\n",
       "        vertical-align: middle;\n",
       "    }\n",
       "\n",
       "    .dataframe tbody tr th {\n",
       "        vertical-align: top;\n",
       "    }\n",
       "\n",
       "    .dataframe thead th {\n",
       "        text-align: right;\n",
       "    }\n",
       "</style>\n",
       "<table border=\"1\" class=\"dataframe\">\n",
       "  <thead>\n",
       "    <tr style=\"text-align: right;\">\n",
       "      <th></th>\n",
       "      <th>response</th>\n",
       "      <th>Response is negative</th>\n",
       "      <th>Prob(response &lt; 0)</th>\n",
       "      <th>Predicted correctly</th>\n",
       "    </tr>\n",
       "  </thead>\n",
       "  <tbody>\n",
       "    <tr>\n",
       "      <th>0</th>\n",
       "      <td>-0.228088</td>\n",
       "      <td>True</td>\n",
       "      <td>0.145846</td>\n",
       "      <td>0</td>\n",
       "    </tr>\n",
       "    <tr>\n",
       "      <th>1</th>\n",
       "      <td>-0.521384</td>\n",
       "      <td>True</td>\n",
       "      <td>0.368514</td>\n",
       "      <td>0</td>\n",
       "    </tr>\n",
       "    <tr>\n",
       "      <th>2</th>\n",
       "      <td>-0.388222</td>\n",
       "      <td>False</td>\n",
       "      <td>0.691394</td>\n",
       "      <td>0</td>\n",
       "    </tr>\n",
       "    <tr>\n",
       "      <th>3</th>\n",
       "      <td>-0.227859</td>\n",
       "      <td>False</td>\n",
       "      <td>0.747930</td>\n",
       "      <td>0</td>\n",
       "    </tr>\n",
       "    <tr>\n",
       "      <th>4</th>\n",
       "      <td>0.107752</td>\n",
       "      <td>False</td>\n",
       "      <td>0.392164</td>\n",
       "      <td>1</td>\n",
       "    </tr>\n",
       "    <tr>\n",
       "      <th>...</th>\n",
       "      <td>...</td>\n",
       "      <td>...</td>\n",
       "      <td>...</td>\n",
       "      <td>...</td>\n",
       "    </tr>\n",
       "    <tr>\n",
       "      <th>113</th>\n",
       "      <td>-1.107380</td>\n",
       "      <td>True</td>\n",
       "      <td>0.994588</td>\n",
       "      <td>1</td>\n",
       "    </tr>\n",
       "    <tr>\n",
       "      <th>114</th>\n",
       "      <td>-1.501794</td>\n",
       "      <td>True</td>\n",
       "      <td>0.998829</td>\n",
       "      <td>1</td>\n",
       "    </tr>\n",
       "    <tr>\n",
       "      <th>115</th>\n",
       "      <td>-1.406318</td>\n",
       "      <td>True</td>\n",
       "      <td>0.999647</td>\n",
       "      <td>1</td>\n",
       "    </tr>\n",
       "    <tr>\n",
       "      <th>116</th>\n",
       "      <td>-1.544312</td>\n",
       "      <td>True</td>\n",
       "      <td>0.999823</td>\n",
       "      <td>1</td>\n",
       "    </tr>\n",
       "    <tr>\n",
       "      <th>117</th>\n",
       "      <td>-1.536448</td>\n",
       "      <td>True</td>\n",
       "      <td>0.999839</td>\n",
       "      <td>1</td>\n",
       "    </tr>\n",
       "  </tbody>\n",
       "</table>\n",
       "<p>118 rows × 4 columns</p>\n",
       "</div>"
      ],
      "text/plain": [
       "     response  Response is negative  Prob(response < 0)  Predicted correctly\n",
       "0   -0.228088                  True            0.145846                    0\n",
       "1   -0.521384                  True            0.368514                    0\n",
       "2   -0.388222                 False            0.691394                    0\n",
       "3   -0.227859                 False            0.747930                    0\n",
       "4    0.107752                 False            0.392164                    1\n",
       "..        ...                   ...                 ...                  ...\n",
       "113 -1.107380                  True            0.994588                    1\n",
       "114 -1.501794                  True            0.998829                    1\n",
       "115 -1.406318                  True            0.999647                    1\n",
       "116 -1.544312                  True            0.999823                    1\n",
       "117 -1.536448                  True            0.999839                    1\n",
       "\n",
       "[118 rows x 4 columns]"
      ]
     },
     "execution_count": 15,
     "metadata": {},
     "output_type": "execute_result"
    }
   ],
   "source": [
    "model.evaluate(test_data)\n",
    "\n",
    "predict_data = []\n",
    "\n",
    "for x, y in test_data:\n",
    "    real_x = []\n",
    "    for history_item in x[0].numpy():\n",
    "        real_x.append(df.loc[df[features[0]] == history_item[0]])\n",
    "\n",
    "    predict_y = float(model.predict(x)[0])\n",
    "    #print(x[0].numpy(), y[0].numpy(), predict_y)\n",
    "    if (predict_y > 0.5 and y[0].numpy() == True) or (predict_y < 0.5 and y[0].numpy() == False):\n",
    "        predicted_correctly = 1\n",
    "    else:\n",
    "        predicted_correctly = 0\n",
    "        \n",
    "    values = real_x[len(real_x)-1][features].values[0].tolist() #note: this is only getting the last row in past_history\n",
    "    values.extend([y[0].numpy(), predict_y, predicted_correctly])\n",
    "    predict_data.append(values)\n",
    "\n",
    "predict_columns = features.copy()\n",
    "predict_columns.extend(['Response is negative','Prob(response < 0)', \"Predicted correctly\"])\n",
    "\n",
    "predicted = pd.DataFrame(predict_data, columns= predict_columns )\n",
    "predicted.to_csv(\"RNNresults.csv\")\n",
    "predicted\n"
   ]
  }
 ],
 "metadata": {
  "kernelspec": {
   "display_name": "Python 3",
   "language": "python",
   "name": "python3"
  },
  "language_info": {
   "codemirror_mode": {
    "name": "ipython",
    "version": 3
   },
   "file_extension": ".py",
   "mimetype": "text/x-python",
   "name": "python",
   "nbconvert_exporter": "python",
   "pygments_lexer": "ipython3",
   "version": "3.7.5"
  }
 },
 "nbformat": 4,
 "nbformat_minor": 2
}
