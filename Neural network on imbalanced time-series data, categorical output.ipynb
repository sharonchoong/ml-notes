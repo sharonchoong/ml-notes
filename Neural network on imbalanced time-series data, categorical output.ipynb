{
 "cells": [
  {
   "cell_type": "code",
   "execution_count": 1,
   "metadata": {},
   "outputs": [],
   "source": [
    "import tensorflow as tf\n",
    "\n",
    "from tensorflow import keras\n",
    "from tensorflow import feature_column\n",
    "from tensorflow.keras import layers\n",
    "\n",
    "import numpy as np"
   ]
  },
  {
   "cell_type": "markdown",
   "metadata": {},
   "source": [
    "The target at time n will be sin(x1<sub>n-1</sub>) + cos(x2<sub>n-1</sub>) + tan(x1<sub>n-1</sub> + x2<sub>n-1</sub>) where x1 and x2 are the features. Both x1 and x2 are randomly generated numbers between -1 and 1. The LAG response will be a binary variable if positive/negative"
   ]
  },
  {
   "cell_type": "code",
   "execution_count": 2,
   "metadata": {
    "scrolled": true
   },
   "outputs": [
    {
     "data": {
      "text/html": [
       "<div>\n",
       "<style scoped>\n",
       "    .dataframe tbody tr th:only-of-type {\n",
       "        vertical-align: middle;\n",
       "    }\n",
       "\n",
       "    .dataframe tbody tr th {\n",
       "        vertical-align: top;\n",
       "    }\n",
       "\n",
       "    .dataframe thead th {\n",
       "        text-align: right;\n",
       "    }\n",
       "</style>\n",
       "<table border=\"1\" class=\"dataframe\">\n",
       "  <thead>\n",
       "    <tr style=\"text-align: right;\">\n",
       "      <th></th>\n",
       "      <th>x1</th>\n",
       "      <th>x2</th>\n",
       "      <th>response</th>\n",
       "      <th>LAG_response</th>\n",
       "    </tr>\n",
       "  </thead>\n",
       "  <tbody>\n",
       "    <tr>\n",
       "      <th>1</th>\n",
       "      <td>-0.892401</td>\n",
       "      <td>0.163061</td>\n",
       "      <td>0.839180</td>\n",
       "      <td>True</td>\n",
       "    </tr>\n",
       "    <tr>\n",
       "      <th>2</th>\n",
       "      <td>-0.609522</td>\n",
       "      <td>0.950474</td>\n",
       "      <td>-0.685575</td>\n",
       "      <td>False</td>\n",
       "    </tr>\n",
       "    <tr>\n",
       "      <th>3</th>\n",
       "      <td>-0.169819</td>\n",
       "      <td>-0.536533</td>\n",
       "      <td>0.363630</td>\n",
       "      <td>True</td>\n",
       "    </tr>\n",
       "    <tr>\n",
       "      <th>4</th>\n",
       "      <td>0.460706</td>\n",
       "      <td>-0.448193</td>\n",
       "      <td>-0.162723</td>\n",
       "      <td>False</td>\n",
       "    </tr>\n",
       "    <tr>\n",
       "      <th>5</th>\n",
       "      <td>-0.045847</td>\n",
       "      <td>-0.821941</td>\n",
       "      <td>1.358325</td>\n",
       "      <td>True</td>\n",
       "    </tr>\n",
       "    <tr>\n",
       "      <th>...</th>\n",
       "      <td>...</td>\n",
       "      <td>...</td>\n",
       "      <td>...</td>\n",
       "      <td>...</td>\n",
       "    </tr>\n",
       "    <tr>\n",
       "      <th>732</th>\n",
       "      <td>-0.006947</td>\n",
       "      <td>0.544640</td>\n",
       "      <td>1.000797</td>\n",
       "      <td>False</td>\n",
       "    </tr>\n",
       "    <tr>\n",
       "      <th>733</th>\n",
       "      <td>0.374841</td>\n",
       "      <td>0.858580</td>\n",
       "      <td>1.444666</td>\n",
       "      <td>False</td>\n",
       "    </tr>\n",
       "    <tr>\n",
       "      <th>734</th>\n",
       "      <td>0.580474</td>\n",
       "      <td>0.698402</td>\n",
       "      <td>3.870374</td>\n",
       "      <td>False</td>\n",
       "    </tr>\n",
       "    <tr>\n",
       "      <th>735</th>\n",
       "      <td>-0.844387</td>\n",
       "      <td>-0.439188</td>\n",
       "      <td>4.642028</td>\n",
       "      <td>True</td>\n",
       "    </tr>\n",
       "    <tr>\n",
       "      <th>736</th>\n",
       "      <td>-0.865002</td>\n",
       "      <td>-0.029820</td>\n",
       "      <td>-3.227836</td>\n",
       "      <td>True</td>\n",
       "    </tr>\n",
       "  </tbody>\n",
       "</table>\n",
       "<p>736 rows × 4 columns</p>\n",
       "</div>"
      ],
      "text/plain": [
       "           x1        x2  response LAG_response\n",
       "1   -0.892401  0.163061  0.839180         True\n",
       "2   -0.609522  0.950474 -0.685575        False\n",
       "3   -0.169819 -0.536533  0.363630         True\n",
       "4    0.460706 -0.448193 -0.162723        False\n",
       "5   -0.045847 -0.821941  1.358325         True\n",
       "..        ...       ...       ...          ...\n",
       "732 -0.006947  0.544640  1.000797        False\n",
       "733  0.374841  0.858580  1.444666        False\n",
       "734  0.580474  0.698402  3.870374        False\n",
       "735 -0.844387 -0.439188  4.642028         True\n",
       "736 -0.865002 -0.029820 -3.227836         True\n",
       "\n",
       "[736 rows x 4 columns]"
      ]
     },
     "execution_count": 2,
     "metadata": {},
     "output_type": "execute_result"
    }
   ],
   "source": [
    "import pandas as pd\n",
    "\n",
    "df = pd.read_csv('data/data.csv')\n",
    "df['LAG_response'] = df['response'].shift(-1)  ## 1 time step lag\n",
    "df = df.dropna()\n",
    "df['LAG_response'] = pd.Categorical(df['LAG_response'] < 0)\n",
    "#df = df.drop(['response'], axis=1)\n",
    "dates = df.pop('date')\n",
    "\n",
    "for col in df.columns: \n",
    "    df = df.rename({col: col.replace(' ', '_').replace('&', '')}, axis=1)\n",
    "\n",
    "df"
   ]
  },
  {
   "cell_type": "code",
   "execution_count": 3,
   "metadata": {},
   "outputs": [],
   "source": [
    "# A utility method to create a tf.data dataset from a Pandas Dataframe\n",
    "def df_to_dataset(dataframe, shuffle=True, batch_size=32):\n",
    "    dataframe = dataframe.copy()\n",
    "    labels = dataframe.pop('LAG_response')\n",
    "    ds = tf.data.Dataset.from_tensor_slices((dict(dataframe), labels))\n",
    "    if shuffle:\n",
    "        ds = ds.shuffle(buffer_size=len(dataframe))\n",
    "    ds = ds.batch(batch_size)\n",
    "    return ds"
   ]
  },
  {
   "cell_type": "code",
   "execution_count": 4,
   "metadata": {},
   "outputs": [
    {
     "data": {
      "text/html": [
       "<div>\n",
       "<style scoped>\n",
       "    .dataframe tbody tr th:only-of-type {\n",
       "        vertical-align: middle;\n",
       "    }\n",
       "\n",
       "    .dataframe tbody tr th {\n",
       "        vertical-align: top;\n",
       "    }\n",
       "\n",
       "    .dataframe thead th {\n",
       "        text-align: right;\n",
       "    }\n",
       "</style>\n",
       "<table border=\"1\" class=\"dataframe\">\n",
       "  <thead>\n",
       "    <tr style=\"text-align: right;\">\n",
       "      <th></th>\n",
       "      <th>x1</th>\n",
       "      <th>x2</th>\n",
       "      <th>response</th>\n",
       "    </tr>\n",
       "  </thead>\n",
       "  <tbody>\n",
       "    <tr>\n",
       "      <th>count</th>\n",
       "      <td>7.360000e+02</td>\n",
       "      <td>7.360000e+02</td>\n",
       "      <td>736.000000</td>\n",
       "    </tr>\n",
       "    <tr>\n",
       "      <th>mean</th>\n",
       "      <td>2.111837e-18</td>\n",
       "      <td>1.077980e-16</td>\n",
       "      <td>0.037905</td>\n",
       "    </tr>\n",
       "    <tr>\n",
       "      <th>std</th>\n",
       "      <td>1.000680e+00</td>\n",
       "      <td>1.000680e+00</td>\n",
       "      <td>0.481164</td>\n",
       "    </tr>\n",
       "    <tr>\n",
       "      <th>min</th>\n",
       "      <td>-1.763215e+00</td>\n",
       "      <td>-1.722513e+00</td>\n",
       "      <td>-5.000000</td>\n",
       "    </tr>\n",
       "    <tr>\n",
       "      <th>25%</th>\n",
       "      <td>-8.649978e-01</td>\n",
       "      <td>-8.514864e-01</td>\n",
       "      <td>0.048075</td>\n",
       "    </tr>\n",
       "    <tr>\n",
       "      <th>50%</th>\n",
       "      <td>4.847800e-02</td>\n",
       "      <td>-1.763602e-02</td>\n",
       "      <td>0.071143</td>\n",
       "    </tr>\n",
       "    <tr>\n",
       "      <th>75%</th>\n",
       "      <td>8.815953e-01</td>\n",
       "      <td>8.212859e-01</td>\n",
       "      <td>0.095204</td>\n",
       "    </tr>\n",
       "    <tr>\n",
       "      <th>max</th>\n",
       "      <td>1.706569e+00</td>\n",
       "      <td>1.774070e+00</td>\n",
       "      <td>5.000000</td>\n",
       "    </tr>\n",
       "  </tbody>\n",
       "</table>\n",
       "</div>"
      ],
      "text/plain": [
       "                 x1            x2    response\n",
       "count  7.360000e+02  7.360000e+02  736.000000\n",
       "mean   2.111837e-18  1.077980e-16    0.037905\n",
       "std    1.000680e+00  1.000680e+00    0.481164\n",
       "min   -1.763215e+00 -1.722513e+00   -5.000000\n",
       "25%   -8.649978e-01 -8.514864e-01    0.048075\n",
       "50%    4.847800e-02 -1.763602e-02    0.071143\n",
       "75%    8.815953e-01  8.212859e-01    0.095204\n",
       "max    1.706569e+00  1.774070e+00    5.000000"
      ]
     },
     "execution_count": 4,
     "metadata": {},
     "output_type": "execute_result"
    }
   ],
   "source": [
    "### normalize features\n",
    "from sklearn.preprocessing import StandardScaler\n",
    "y = df.pop('LAG_response')\n",
    "\n",
    "def normalize_column(df):\n",
    "    scaler = StandardScaler()\n",
    "    df = pd.DataFrame(scaler.fit_transform(df.values), columns = df.columns, index= df.index)\n",
    "    df = pd.DataFrame(np.clip(df, -5, 5), columns = df.columns, index= df.index)\n",
    "    return df\n",
    "        \n",
    "df = normalize_column(df)\n",
    "df['LAG_response'] = y.values\n",
    "\n",
    "total_ds = df_to_dataset(df, shuffle=False, batch_size=len(df))\n",
    "total_df = df.copy()\n",
    "\n",
    "df.describe()"
   ]
  },
  {
   "cell_type": "code",
   "execution_count": 5,
   "metadata": {},
   "outputs": [
    {
     "data": {
      "text/plain": [
       "<matplotlib.axes._subplots.AxesSubplot at 0x2052053adc8>"
      ]
     },
     "execution_count": 5,
     "metadata": {},
     "output_type": "execute_result"
    },
    {
     "data": {
      "image/png": "[encoded data removed]",
      "text/plain": [
       "<Figure size 432x288 with 1 Axes>"
      ]
     },
     "metadata": {
      "needs_background": "light"
     },
     "output_type": "display_data"
    }
   ],
   "source": [
    "df['LAG_response'].value_counts().plot(kind='bar')"
   ]
  },
  {
   "cell_type": "code",
   "execution_count": 6,
   "metadata": {
    "scrolled": true
   },
   "outputs": [
    {
     "data": {
      "text/plain": [
       "<matplotlib.axes._subplots.AxesSubplot at 0x2052087de48>"
      ]
     },
     "execution_count": 6,
     "metadata": {},
     "output_type": "execute_result"
    },
    {
     "data": {
      "image/png": "[encoded data removed]",
      "text/plain": [
       "<Figure size 432x288 with 1 Axes>"
      ]
     },
     "metadata": {
      "needs_background": "light"
     },
     "output_type": "display_data"
    }
   ],
   "source": [
    "### oversample categorical y to rebalance\n",
    "data_negativeResponse = df[df['LAG_response']]\n",
    "data_positiveResponse = df[df['LAG_response'] != True]\n",
    "choices = np.random.choice(len(data_negativeResponse), len(data_positiveResponse))\n",
    "sample_negativeResponse = data_negativeResponse.iloc[choices]\n",
    "df = pd.concat([sample_negativeResponse,data_positiveResponse]) \n",
    "df['LAG_response'].value_counts().plot(kind='bar')\n"
   ]
  },
  {
   "cell_type": "code",
   "execution_count": 7,
   "metadata": {
    "scrolled": true
   },
   "outputs": [],
   "source": [
    "# train and test dataset splits\n",
    "from sklearn.model_selection import train_test_split\n",
    "train, test = train_test_split(df, test_size=0.2)\n",
    "train, val = train_test_split(train, test_size=0.3)\n",
    "batch_size = len(df)\n",
    "train_ds = df_to_dataset(train, batch_size=batch_size)\n",
    "val_ds = df_to_dataset(val, shuffle=False, batch_size=batch_size)\n",
    "test_ds = df_to_dataset(test, shuffle=False, batch_size=batch_size)\n"
   ]
  },
  {
   "cell_type": "code",
   "execution_count": 8,
   "metadata": {},
   "outputs": [],
   "source": [
    "feature_columns = []\n",
    "headers = [\n",
    "            \"x1\", \n",
    "            \"x2\"\n",
    "          ]\n",
    "# numeric cols\n",
    "for header in headers:\n",
    "    feature_columns.append(feature_column.numeric_column(header))\n"
   ]
  },
  {
   "cell_type": "code",
   "execution_count": 9,
   "metadata": {},
   "outputs": [],
   "source": [
    "def make_model(bias, threshold=0.5):\n",
    "    if bias is not None:\n",
    "        bias = keras.initializers.Constant(bias)\n",
    "    model = tf.keras.Sequential()\n",
    "    # Add feature layer\n",
    "    model.add(layers.DenseFeatures(feature_columns))\n",
    "    # Adds a densely-connected layer with 64 units to the model:\n",
    "    model.add(layers.Dense(64, activation='relu'))\n",
    "    #model.add(layers.Dropout(0.5))\n",
    "    model.add(layers.Dense(100, activation='relu'))\n",
    "    model.add(layers.Dense(100, activation='relu'))\n",
    "    model.add(layers.Dense(100, activation='relu'))\n",
    "    # Add the output layer:\n",
    "    model.add(layers.Dense(1, activation='sigmoid', bias_initializer= bias))\n",
    "\n",
    "    model.compile(optimizer=tf.keras.optimizers.Adam(learning_rate=0.001),\n",
    "                  loss='binary_crossentropy',\n",
    "                  metrics=[keras.metrics.BinaryAccuracy(threshold=threshold), keras.metrics.Precision(thresholds=threshold), keras.metrics.Recall(thresholds=threshold), \n",
    "                           keras.metrics.AUC(name=\"auc\")])\n",
    "    \n",
    "    return model"
   ]
  },
  {
   "cell_type": "code",
   "execution_count": 10,
   "metadata": {
    "scrolled": true
   },
   "outputs": [
    {
     "name": "stdout",
     "output_type": "stream",
     "text": [
      "True     513\n",
      "False    513\n",
      "Name: LAG_response, dtype: int64\n"
     ]
    }
   ],
   "source": [
    "##output_bias \n",
    "print(df['LAG_response'].value_counts())\n",
    "#initial_bias = np.log([lacking_samples/overflowing_samples])\n",
    "\n",
    "#plot loss\n",
    "import matplotlib.pyplot as plt\n",
    "colors = plt.rcParams['axes.prop_cycle'].by_key()['color']\n",
    "def plot_loss(model_fit, label, n, other_metric=None):\n",
    "    plt.semilogy(model_fit.epoch, model_fit.history['loss'], color=colors[n], label=\"Train \"+label)\n",
    "    plt.semilogy(model_fit.epoch, model_fit.history['val_loss'], color=colors[n], label='Val '+label, linestyle='--')\n",
    "    if other_metric:\n",
    "        plt.plot(model_fit.epoch, model_fit.history[other_metric], color=colors[n], label=other_metric, linestyle='dashdot')\n",
    "    plt.xlabel('Epoch')\n",
    "    plt.ylabel('Loss')\n",
    "    plt.legend()\n",
    "\n",
    "#model = make_model(None)\n",
    "#plot_loss(model.fit(train_ds, epochs=50, verbose=0,validation_data=val_ds), \"Default bias\", 0)\n",
    "\n",
    "#model = make_model(initial_bias)\n",
    "#plot_loss(model.fit(train_ds, epochs=50, verbose=0,validation_data=val_ds), \"Custom bias\", 1)\n"
   ]
  },
  {
   "cell_type": "code",
   "execution_count": 11,
   "metadata": {
    "scrolled": true
   },
   "outputs": [
    {
     "name": "stdout",
     "output_type": "stream",
     "text": [
      "Epoch 1/500\n",
      "1/1 - 5s - loss: 0.8140 - binary_accuracy: 0.5105 - precision: 0.0000e+00 - recall: 0.0000e+00 - auc: 0.3411 - val_loss: 0.0000e+00 - val_binary_accuracy: 0.0000e+00 - val_precision: 0.0000e+00 - val_recall: 0.0000e+00 - val_auc: 0.0000e+00\n",
      "Epoch 2/500\n",
      "1/1 - 0s - loss: 0.7862 - binary_accuracy: 0.5105 - precision: 0.0000e+00 - recall: 0.0000e+00 - auc: 0.7613 - val_loss: 0.7619 - val_binary_accuracy: 0.5081 - val_precision: 0.0000e+00 - val_recall: 0.0000e+00 - val_auc: 0.9072\n",
      "Epoch 3/500\n",
      "1/1 - 0s - loss: 0.7620 - binary_accuracy: 0.5105 - precision: 0.0000e+00 - recall: 0.0000e+00 - auc: 0.8925 - val_loss: 0.7406 - val_binary_accuracy: 0.5081 - val_precision: 0.0000e+00 - val_recall: 0.0000e+00 - val_auc: 0.9255\n",
      "Epoch 4/500\n",
      "1/1 - 0s - loss: 0.7408 - binary_accuracy: 0.5105 - precision: 0.0000e+00 - recall: 0.0000e+00 - auc: 0.9229 - val_loss: 0.7219 - val_binary_accuracy: 0.5081 - val_precision: 0.0000e+00 - val_recall: 0.0000e+00 - val_auc: 0.9304\n",
      "Epoch 5/500\n",
      "1/1 - 0s - loss: 0.7222 - binary_accuracy: 0.5105 - precision: 0.0000e+00 - recall: 0.0000e+00 - auc: 0.9334 - val_loss: 0.7051 - val_binary_accuracy: 0.5081 - val_precision: 0.0000e+00 - val_recall: 0.0000e+00 - val_auc: 0.9314\n",
      "Epoch 6/500\n",
      "1/1 - 0s - loss: 0.7054 - binary_accuracy: 0.5105 - precision: 0.0000e+00 - recall: 0.0000e+00 - auc: 0.9419 - val_loss: 0.6891 - val_binary_accuracy: 0.5081 - val_precision: 0.0000e+00 - val_recall: 0.0000e+00 - val_auc: 0.9334\n",
      "Epoch 7/500\n",
      "1/1 - 0s - loss: 0.6894 - binary_accuracy: 0.5105 - precision: 0.0000e+00 - recall: 0.0000e+00 - auc: 0.9450 - val_loss: 0.6727 - val_binary_accuracy: 0.5081 - val_precision: 0.0000e+00 - val_recall: 0.0000e+00 - val_auc: 0.9343\n",
      "Epoch 8/500\n",
      "1/1 - 0s - loss: 0.6730 - binary_accuracy: 0.5105 - precision: 0.0000e+00 - recall: 0.0000e+00 - auc: 0.9479 - val_loss: 0.6558 - val_binary_accuracy: 0.5081 - val_precision: 0.0000e+00 - val_recall: 0.0000e+00 - val_auc: 0.9341\n",
      "Epoch 9/500\n",
      "1/1 - 0s - loss: 0.6561 - binary_accuracy: 0.5105 - precision: 0.0000e+00 - recall: 0.0000e+00 - auc: 0.9465 - val_loss: 0.6383 - val_binary_accuracy: 0.5081 - val_precision: 0.0000e+00 - val_recall: 0.0000e+00 - val_auc: 0.9344\n",
      "Epoch 10/500\n",
      "1/1 - 0s - loss: 0.6387 - binary_accuracy: 0.5105 - precision: 0.0000e+00 - recall: 0.0000e+00 - auc: 0.9457 - val_loss: 0.6201 - val_binary_accuracy: 0.5081 - val_precision: 0.0000e+00 - val_recall: 0.0000e+00 - val_auc: 0.9336\n",
      "Epoch 11/500\n",
      "1/1 - 0s - loss: 0.6204 - binary_accuracy: 0.5105 - precision: 0.0000e+00 - recall: 0.0000e+00 - auc: 0.9463 - val_loss: 0.6010 - val_binary_accuracy: 0.5081 - val_precision: 0.0000e+00 - val_recall: 0.0000e+00 - val_auc: 0.9337\n",
      "Epoch 12/500\n",
      "1/1 - 0s - loss: 0.6012 - binary_accuracy: 0.5105 - precision: 0.0000e+00 - recall: 0.0000e+00 - auc: 0.9454 - val_loss: 0.5810 - val_binary_accuracy: 0.5000 - val_precision: 0.0000e+00 - val_recall: 0.0000e+00 - val_auc: 0.9340\n",
      "Epoch 13/500\n",
      "1/1 - 0s - loss: 0.5811 - binary_accuracy: 0.5087 - precision: 0.0000e+00 - recall: 0.0000e+00 - auc: 0.9456 - val_loss: 0.5601 - val_binary_accuracy: 0.4878 - val_precision: 0.0000e+00 - val_recall: 0.0000e+00 - val_auc: 0.9339\n",
      "Epoch 14/500\n",
      "1/1 - 0s - loss: 0.5602 - binary_accuracy: 0.5000 - precision: 0.0000e+00 - recall: 0.0000e+00 - auc: 0.9447 - val_loss: 0.5387 - val_binary_accuracy: 0.5407 - val_precision: 0.7000 - val_recall: 0.1157 - val_auc: 0.9335\n",
      "Epoch 15/500\n",
      "1/1 - 0s - loss: 0.5387 - binary_accuracy: 0.5488 - precision: 0.8056 - recall: 0.1032 - auc: 0.9445 - val_loss: 0.5172 - val_binary_accuracy: 0.6382 - val_precision: 0.8636 - val_recall: 0.3140 - val_auc: 0.9337\n",
      "Epoch 16/500\n",
      "1/1 - 0s - loss: 0.5170 - binary_accuracy: 0.6098 - precision: 0.9014 - recall: 0.2278 - auc: 0.9429 - val_loss: 0.4960 - val_binary_accuracy: 0.6911 - val_precision: 0.8947 - val_recall: 0.4215 - val_auc: 0.9335\n",
      "Epoch 17/500\n",
      "1/1 - 0s - loss: 0.4954 - binary_accuracy: 0.6899 - precision: 0.9402 - recall: 0.3915 - auc: 0.9430 - val_loss: 0.4755 - val_binary_accuracy: 0.7480 - val_precision: 0.9155 - val_recall: 0.5372 - val_auc: 0.9324\n",
      "Epoch 18/500\n",
      "1/1 - 0s - loss: 0.4742 - binary_accuracy: 0.7526 - precision: 0.9542 - recall: 0.5196 - auc: 0.9411 - val_loss: 0.4561 - val_binary_accuracy: 0.7846 - val_precision: 0.9250 - val_recall: 0.6116 - val_auc: 0.9323\n",
      "Epoch 19/500\n",
      "1/1 - 0s - loss: 0.4539 - binary_accuracy: 0.8014 - precision: 0.9613 - recall: 0.6192 - auc: 0.9404 - val_loss: 0.4382 - val_binary_accuracy: 0.8618 - val_precision: 0.9394 - val_recall: 0.7686 - val_auc: 0.9317\n",
      "Epoch 20/500\n",
      "1/1 - 0s - loss: 0.4347 - binary_accuracy: 0.8519 - precision: 0.9667 - recall: 0.7224 - auc: 0.9395 - val_loss: 0.4222 - val_binary_accuracy: 0.9350 - val_precision: 0.9487 - val_recall: 0.9174 - val_auc: 0.9314\n",
      "Epoch 21/500\n",
      "1/1 - 0s - loss: 0.4173 - binary_accuracy: 0.9094 - precision: 0.9636 - recall: 0.8470 - auc: 0.9385 - val_loss: 0.4085 - val_binary_accuracy: 0.9431 - val_precision: 0.9350 - val_recall: 0.9504 - val_auc: 0.9311\n"
     ]
    },
    {
     "data": {
      "text/plain": [
       "<tensorflow.python.keras.callbacks.History at 0x20520a31948>"
      ]
     },
     "execution_count": 11,
     "metadata": {},
     "output_type": "execute_result"
    }
   ],
   "source": [
    "model = make_model(None, 0.6)\n",
    "\n",
    "earlystop_callback = tf.keras.callbacks.EarlyStopping(monitor=\"val_auc\", min_delta=0.001, patience=15, mode=\"max\")\n",
    "model.fit(train_ds, epochs=500, verbose=2,validation_data=val_ds, callbacks=[earlystop_callback])"
   ]
  },
  {
   "cell_type": "code",
   "execution_count": 12,
   "metadata": {},
   "outputs": [
    {
     "data": {
      "image/png": "[encoded data removed]",
      "text/plain": [
       "<Figure size 432x288 with 1 Axes>"
      ]
     },
     "metadata": {
      "needs_background": "light"
     },
     "output_type": "display_data"
    }
   ],
   "source": [
    "plot_loss(model.history, \"Final Model\", 0, 'val_auc')"
   ]
  },
  {
   "cell_type": "code",
   "execution_count": 13,
   "metadata": {},
   "outputs": [
    {
     "name": "stdout",
     "output_type": "stream",
     "text": [
      "\r",
      "1/1 [==============================] - 0s 9ms/step - loss: 0.4000 - binary_accuracy: 0.9223 - precision: 0.9358 - recall: 0.9189 - auc: 0.9346\n"
     ]
    },
    {
     "data": {
      "text/html": [
       "<div>\n",
       "<style scoped>\n",
       "    .dataframe tbody tr th:only-of-type {\n",
       "        vertical-align: middle;\n",
       "    }\n",
       "\n",
       "    .dataframe tbody tr th {\n",
       "        vertical-align: top;\n",
       "    }\n",
       "\n",
       "    .dataframe thead th {\n",
       "        text-align: right;\n",
       "    }\n",
       "</style>\n",
       "<table border=\"1\" class=\"dataframe\">\n",
       "  <thead>\n",
       "    <tr style=\"text-align: right;\">\n",
       "      <th></th>\n",
       "      <th>LAG_response</th>\n",
       "      <th>Prob(response &lt; 0)</th>\n",
       "      <th>Predicted correctly</th>\n",
       "    </tr>\n",
       "  </thead>\n",
       "  <tbody>\n",
       "    <tr>\n",
       "      <th>8</th>\n",
       "      <td>True</td>\n",
       "      <td>0.690023</td>\n",
       "      <td>1</td>\n",
       "    </tr>\n",
       "    <tr>\n",
       "      <th>157</th>\n",
       "      <td>False</td>\n",
       "      <td>0.180108</td>\n",
       "      <td>1</td>\n",
       "    </tr>\n",
       "    <tr>\n",
       "      <th>334</th>\n",
       "      <td>False</td>\n",
       "      <td>0.269497</td>\n",
       "      <td>1</td>\n",
       "    </tr>\n",
       "    <tr>\n",
       "      <th>255</th>\n",
       "      <td>False</td>\n",
       "      <td>0.256718</td>\n",
       "      <td>1</td>\n",
       "    </tr>\n",
       "    <tr>\n",
       "      <th>655</th>\n",
       "      <td>True</td>\n",
       "      <td>0.268469</td>\n",
       "      <td>0</td>\n",
       "    </tr>\n",
       "    <tr>\n",
       "      <th>...</th>\n",
       "      <td>...</td>\n",
       "      <td>...</td>\n",
       "      <td>...</td>\n",
       "    </tr>\n",
       "    <tr>\n",
       "      <th>547</th>\n",
       "      <td>False</td>\n",
       "      <td>0.275127</td>\n",
       "      <td>1</td>\n",
       "    </tr>\n",
       "    <tr>\n",
       "      <th>104</th>\n",
       "      <td>True</td>\n",
       "      <td>0.738151</td>\n",
       "      <td>1</td>\n",
       "    </tr>\n",
       "    <tr>\n",
       "      <th>598</th>\n",
       "      <td>True</td>\n",
       "      <td>0.668466</td>\n",
       "      <td>1</td>\n",
       "    </tr>\n",
       "    <tr>\n",
       "      <th>218</th>\n",
       "      <td>False</td>\n",
       "      <td>0.572250</td>\n",
       "      <td>0</td>\n",
       "    </tr>\n",
       "    <tr>\n",
       "      <th>103</th>\n",
       "      <td>False</td>\n",
       "      <td>0.145911</td>\n",
       "      <td>1</td>\n",
       "    </tr>\n",
       "  </tbody>\n",
       "</table>\n",
       "<p>206 rows × 3 columns</p>\n",
       "</div>"
      ],
      "text/plain": [
       "    LAG_response  Prob(response < 0)  Predicted correctly\n",
       "8           True            0.690023                    1\n",
       "157        False            0.180108                    1\n",
       "334        False            0.269497                    1\n",
       "255        False            0.256718                    1\n",
       "655         True            0.268469                    0\n",
       "..           ...                 ...                  ...\n",
       "547        False            0.275127                    1\n",
       "104         True            0.738151                    1\n",
       "598         True            0.668466                    1\n",
       "218        False            0.572250                    0\n",
       "103        False            0.145911                    1\n",
       "\n",
       "[206 rows x 3 columns]"
      ]
     },
     "execution_count": 13,
     "metadata": {},
     "output_type": "execute_result"
    }
   ],
   "source": [
    "model.evaluate(test_ds)\n",
    "\n",
    "pred_results = model.predict(test_ds)\n",
    "\n",
    "#for i in range(len(predicted)):\n",
    "    #print(\"X=%s, Y=%s, Predicted=%s\" % (dict(test[headers].iloc[i]), test['LAG_response'].array[i], pred_results[i]))\n",
    "    #print(\"Y=%s, Predicted=%s\" % (test['LAG_response'].array[i], pred_results[i]))\n",
    "    \n",
    "predicted = test.copy()[headers]\n",
    "predicted[\"LAG_response\"] = test[\"LAG_response\"]\n",
    "predicted[\"Prob(response < 0)\"] = pred_results\n",
    "predicted_correctly = []\n",
    "for i in range(0, len(predicted[\"Prob(response < 0)\"])):\n",
    "    if (predicted[\"Prob(response < 0)\"].array[i] > 0.5 and predicted[\"LAG_response\"].array[i] == True) \\\n",
    "        or (predicted[\"Prob(response < 0)\"].array[i] < 0.5 and predicted[\"LAG_response\"].array[i] == False):\n",
    "        predicted_correctly.append(1)\n",
    "    else:\n",
    "        predicted_correctly.append(0)\n",
    "predicted[\"Predicted correctly\"] = predicted_correctly\n",
    "predicted[\"date\"] = dates\n",
    "predicted.to_csv(\"results.csv\")\n",
    "predicted[[\"LAG_response\", \"Prob(response < 0)\", \"Predicted correctly\"]]"
   ]
  },
  {
   "cell_type": "code",
   "execution_count": 14,
   "metadata": {},
   "outputs": [
    {
     "name": "stdout",
     "output_type": "stream",
     "text": [
      "\r",
      "1/1 [==============================] - 0s 16ms/step - loss: 0.4165 - binary_accuracy: 0.9402 - precision: 0.8908 - recall: 0.9148 - auc: 0.9386\n"
     ]
    },
    {
     "data": {
      "text/html": [
       "<div>\n",
       "<style scoped>\n",
       "    .dataframe tbody tr th:only-of-type {\n",
       "        vertical-align: middle;\n",
       "    }\n",
       "\n",
       "    .dataframe tbody tr th {\n",
       "        vertical-align: top;\n",
       "    }\n",
       "\n",
       "    .dataframe thead th {\n",
       "        text-align: right;\n",
       "    }\n",
       "</style>\n",
       "<table border=\"1\" class=\"dataframe\">\n",
       "  <thead>\n",
       "    <tr style=\"text-align: right;\">\n",
       "      <th></th>\n",
       "      <th>LAG_response</th>\n",
       "      <th>Prob(response &lt; 0)</th>\n",
       "      <th>Predicted correctly</th>\n",
       "    </tr>\n",
       "  </thead>\n",
       "  <tbody>\n",
       "    <tr>\n",
       "      <th>1</th>\n",
       "      <td>True</td>\n",
       "      <td>0.795733</td>\n",
       "      <td>1</td>\n",
       "    </tr>\n",
       "    <tr>\n",
       "      <th>2</th>\n",
       "      <td>False</td>\n",
       "      <td>0.404718</td>\n",
       "      <td>1</td>\n",
       "    </tr>\n",
       "    <tr>\n",
       "      <th>3</th>\n",
       "      <td>True</td>\n",
       "      <td>0.638397</td>\n",
       "      <td>1</td>\n",
       "    </tr>\n",
       "    <tr>\n",
       "      <th>4</th>\n",
       "      <td>False</td>\n",
       "      <td>0.213020</td>\n",
       "      <td>1</td>\n",
       "    </tr>\n",
       "    <tr>\n",
       "      <th>5</th>\n",
       "      <td>True</td>\n",
       "      <td>0.695529</td>\n",
       "      <td>1</td>\n",
       "    </tr>\n",
       "    <tr>\n",
       "      <th>...</th>\n",
       "      <td>...</td>\n",
       "      <td>...</td>\n",
       "      <td>...</td>\n",
       "    </tr>\n",
       "    <tr>\n",
       "      <th>732</th>\n",
       "      <td>False</td>\n",
       "      <td>0.252632</td>\n",
       "      <td>1</td>\n",
       "    </tr>\n",
       "    <tr>\n",
       "      <th>733</th>\n",
       "      <td>False</td>\n",
       "      <td>0.235520</td>\n",
       "      <td>1</td>\n",
       "    </tr>\n",
       "    <tr>\n",
       "      <th>734</th>\n",
       "      <td>False</td>\n",
       "      <td>0.268577</td>\n",
       "      <td>1</td>\n",
       "    </tr>\n",
       "    <tr>\n",
       "      <th>735</th>\n",
       "      <td>True</td>\n",
       "      <td>0.857728</td>\n",
       "      <td>1</td>\n",
       "    </tr>\n",
       "    <tr>\n",
       "      <th>736</th>\n",
       "      <td>True</td>\n",
       "      <td>0.810224</td>\n",
       "      <td>1</td>\n",
       "    </tr>\n",
       "  </tbody>\n",
       "</table>\n",
       "<p>736 rows × 3 columns</p>\n",
       "</div>"
      ],
      "text/plain": [
       "    LAG_response  Prob(response < 0)  Predicted correctly\n",
       "1           True            0.795733                    1\n",
       "2          False            0.404718                    1\n",
       "3           True            0.638397                    1\n",
       "4          False            0.213020                    1\n",
       "5           True            0.695529                    1\n",
       "..           ...                 ...                  ...\n",
       "732        False            0.252632                    1\n",
       "733        False            0.235520                    1\n",
       "734        False            0.268577                    1\n",
       "735         True            0.857728                    1\n",
       "736         True            0.810224                    1\n",
       "\n",
       "[736 rows x 3 columns]"
      ]
     },
     "execution_count": 14,
     "metadata": {},
     "output_type": "execute_result"
    }
   ],
   "source": [
    "# predicting over full history, i.e. including in-sample\n",
    "model.evaluate(total_ds)\n",
    "pred_results_full = model.predict(total_ds)\n",
    "\n",
    "predicted_full = total_df.copy()[headers]\n",
    "predicted_full[\"LAG_response\"] = total_df[\"LAG_response\"]\n",
    "predicted_full[\"Prob(response < 0)\"] = pred_results_full\n",
    "predicted_correctly = []\n",
    "for i in range(0, len(predicted_full[\"Prob(response < 0)\"])):\n",
    "    if (predicted_full[\"Prob(response < 0)\"].array[i] > 0.5 and predicted_full[\"LAG_response\"].array[i] == True) \\\n",
    "        or (predicted_full[\"Prob(response < 0)\"].array[i] < 0.5 and predicted_full[\"LAG_response\"].array[i] == False):\n",
    "        predicted_correctly.append(1)\n",
    "    else:\n",
    "        predicted_correctly.append(0)\n",
    "predicted_full[\"Predicted correctly\"] = predicted_correctly\n",
    "predicted_full[\"Date\"] = dates\n",
    "predicted_full.to_csv(\"results_full.csv\")\n",
    "predicted_full[[\"LAG_response\", \"Prob(response < 0)\", \"Predicted correctly\"]]"
   ]
  },
  {
   "cell_type": "code",
   "execution_count": 15,
   "metadata": {},
   "outputs": [
    {
     "name": "stdout",
     "output_type": "stream",
     "text": [
      "Model: \"sequential\"\n",
      "_________________________________________________________________\n",
      "Layer (type)                 Output Shape              Param #   \n",
      "=================================================================\n",
      "dense_features (DenseFeature multiple                  0         \n",
      "_________________________________________________________________\n",
      "dense (Dense)                multiple                  192       \n",
      "_________________________________________________________________\n",
      "dense_1 (Dense)              multiple                  6500      \n",
      "_________________________________________________________________\n",
      "dense_2 (Dense)              multiple                  10100     \n",
      "_________________________________________________________________\n",
      "dense_3 (Dense)              multiple                  10100     \n",
      "_________________________________________________________________\n",
      "dense_4 (Dense)              multiple                  101       \n",
      "=================================================================\n",
      "Total params: 26,993\n",
      "Trainable params: 26,993\n",
      "Non-trainable params: 0\n",
      "_________________________________________________________________\n"
     ]
    }
   ],
   "source": [
    "model.summary()"
   ]
  }
 ],
 "metadata": {
  "kernelspec": {
   "display_name": "Python 3",
   "language": "python",
   "name": "python3"
  },
  "language_info": {
   "codemirror_mode": {
    "name": "ipython",
    "version": 3
   },
   "file_extension": ".py",
   "mimetype": "text/x-python",
   "name": "python",
   "nbconvert_exporter": "python",
   "pygments_lexer": "ipython3",
   "version": "3.7.5"
  }
 },
 "nbformat": 4,
 "nbformat_minor": 2
}
